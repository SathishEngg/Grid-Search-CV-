{
 "cells": [
  {
   "cell_type": "code",
   "execution_count": 7,
   "id": "99903ad4-cc8d-433b-9e9b-a3f793dd19df",
   "metadata": {},
   "outputs": [],
   "source": [
    "import pickle"
   ]
  },
  {
   "cell_type": "code",
   "execution_count": 8,
   "id": "2dee50e9-739d-4803-b585-312dad8d22d2",
   "metadata": {},
   "outputs": [],
   "source": [
    "loaded_model=pickle.load(open(\"finalized_model_LgboostRegressor_GridSearchCV.sav\", 'rb'))\n",
    "result=loaded_model.predict([[56,29,3,1,1]])"
   ]
  },
  {
   "cell_type": "code",
   "execution_count": 9,
   "id": "a56ebc2b-a4a3-4cc3-acc4-4583b8eb3e12",
   "metadata": {},
   "outputs": [
    {
     "data": {
      "text/plain": [
       "array([28223.64182432])"
      ]
     },
     "execution_count": 9,
     "metadata": {},
     "output_type": "execute_result"
    }
   ],
   "source": [
    "result"
   ]
  }
 ],
 "metadata": {
  "kernelspec": {
   "display_name": "Python 3 (ipykernel)",
   "language": "python",
   "name": "python3"
  },
  "language_info": {
   "codemirror_mode": {
    "name": "ipython",
    "version": 3
   },
   "file_extension": ".py",
   "mimetype": "text/x-python",
   "name": "python",
   "nbconvert_exporter": "python",
   "pygments_lexer": "ipython3",
   "version": "3.11.7"
  }
 },
 "nbformat": 4,
 "nbformat_minor": 5
}
