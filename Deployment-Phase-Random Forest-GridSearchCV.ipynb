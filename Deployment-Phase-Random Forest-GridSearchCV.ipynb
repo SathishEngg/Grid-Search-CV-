{
 "cells": [
  {
   "cell_type": "code",
   "execution_count": 1,
   "id": "3c31b865-a0cd-440e-a7e6-48071bc844bd",
   "metadata": {},
   "outputs": [],
   "source": [
    "import pickle"
   ]
  },
  {
   "cell_type": "code",
   "execution_count": 2,
   "id": "352db0ef-1edf-4f1a-b7fa-3fcacb085094",
   "metadata": {},
   "outputs": [
    {
     "name": "stderr",
     "output_type": "stream",
     "text": [
      "C:\\ProgramData\\anaconda3\\Lib\\site-packages\\sklearn\\base.py:439: UserWarning: X does not have valid feature names, but RandomForestRegressor was fitted with feature names\n",
      "  warnings.warn(\n"
     ]
    }
   ],
   "source": [
    "loaded_model=pickle.load(open(\"finalized_model_Random_Forest_GridSearchCV.sav\", 'rb'))\n",
    "result=loaded_model.predict([[35,21,2,1,0]])"
   ]
  },
  {
   "cell_type": "code",
   "execution_count": 3,
   "id": "cfb26c31-6824-42e6-8a5f-39ca4bb870a6",
   "metadata": {},
   "outputs": [
    {
     "data": {
      "text/plain": [
       "array([10972.79338085])"
      ]
     },
     "execution_count": 3,
     "metadata": {},
     "output_type": "execute_result"
    }
   ],
   "source": [
    "result"
   ]
  }
 ],
 "metadata": {
  "kernelspec": {
   "display_name": "Python 3 (ipykernel)",
   "language": "python",
   "name": "python3"
  },
  "language_info": {
   "codemirror_mode": {
    "name": "ipython",
    "version": 3
   },
   "file_extension": ".py",
   "mimetype": "text/x-python",
   "name": "python",
   "nbconvert_exporter": "python",
   "pygments_lexer": "ipython3",
   "version": "3.11.7"
  }
 },
 "nbformat": 4,
 "nbformat_minor": 5
}
