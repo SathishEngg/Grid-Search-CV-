{
 "cells": [
  {
   "cell_type": "code",
   "execution_count": 8,
   "id": "555df02b-c822-4e64-9da1-0229669facd7",
   "metadata": {},
   "outputs": [],
   "source": [
    "import pickle"
   ]
  },
  {
   "cell_type": "code",
   "execution_count": 9,
   "id": "23bee6dd-539a-49db-91e4-1944d0dc5d55",
   "metadata": {},
   "outputs": [],
   "source": [
    "loaded_model=pickle.load(open(\"finalized_model_XgboostRegressor_GridSearchCV.sav\", 'rb'))\n",
    "result=loaded_model.predict([[45,35,1,1,0]])"
   ]
  },
  {
   "cell_type": "code",
   "execution_count": 10,
   "id": "86482f88-95d6-493e-a66e-a95d2437ad76",
   "metadata": {},
   "outputs": [
    {
     "data": {
      "text/plain": [
       "array([9297.381], dtype=float32)"
      ]
     },
     "execution_count": 10,
     "metadata": {},
     "output_type": "execute_result"
    }
   ],
   "source": [
    "result"
   ]
  }
 ],
 "metadata": {
  "kernelspec": {
   "display_name": "Python 3 (ipykernel)",
   "language": "python",
   "name": "python3"
  },
  "language_info": {
   "codemirror_mode": {
    "name": "ipython",
    "version": 3
   },
   "file_extension": ".py",
   "mimetype": "text/x-python",
   "name": "python",
   "nbconvert_exporter": "python",
   "pygments_lexer": "ipython3",
   "version": "3.11.7"
  }
 },
 "nbformat": 4,
 "nbformat_minor": 5
}
